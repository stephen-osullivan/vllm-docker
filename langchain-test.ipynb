{
 "cells": [
  {
   "cell_type": "code",
   "execution_count": 3,
   "metadata": {},
   "outputs": [],
   "source": [
    "from langchain_core.output_parsers import StrOutputParser\n",
    "from langchain_core.prompts import ChatPromptTemplate\n",
    "from langchain_openai import ChatOpenAI"
   ]
  },
  {
   "cell_type": "code",
   "execution_count": null,
   "metadata": {},
   "outputs": [],
   "source": [
    "\n",
    "\n",
    "endpoint_url = 'http://0.0.0.0:8000/v1'\n",
    "def get_prompt_template(prompt):\n",
    "    prompt_template = ChatPromptTemplate.from_messages(\n",
    "        ('human', prompt),\n",
    "    )\n",
    "    return prompt_template\n",
    "\n",
    "llm = ChatOpenAI(\n",
    "            model=\"TheBloke/Mistral-7B-Instruct-v0.2-AWQ\" \n",
    "            temperature=0,\n",
    "            max_tokens = 1024,\n",
    "            openai_api_base=endpoint_url,\n",
    "            )\n",
    "\n",
    "client = OpenAI(\n",
    "    base_url = 'http://localhost:11434/v1',\n",
    "    api_key='ollama', # required, but unused\n",
    ")\n",
    "\n",
    "def get_completion(prompt):\n",
    "    response = client.chat.completions.create(\n",
    "    model=\"llama3\",\n",
    "    temperature=0,\n",
    "    max_tokens=1024,\n",
    "    messages=[\n",
    "        {\"role\": \"user\", \"content\": prompt}\n",
    "    ])\n",
    "    return response.choices[0].message.content"
   ]
  }
 ],
 "metadata": {
  "kernelspec": {
   "display_name": ".venv",
   "language": "python",
   "name": "python3"
  },
  "language_info": {
   "codemirror_mode": {
    "name": "ipython",
    "version": 3
   },
   "file_extension": ".py",
   "mimetype": "text/x-python",
   "name": "python",
   "nbconvert_exporter": "python",
   "pygments_lexer": "ipython3",
   "version": "3.10.6"
  }
 },
 "nbformat": 4,
 "nbformat_minor": 2
}
